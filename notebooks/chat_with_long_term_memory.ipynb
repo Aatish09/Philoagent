{
 "cells": [
  {
   "cell_type": "code",
   "execution_count": 8,
   "metadata": {},
   "outputs": [],
   "source": [
    "from langchain_core.documents import Document\n",
    "\n",
    "from philoagents.application import LongTermMemoryRetrieval"
   ]
  },
  {
   "cell_type": "code",
   "execution_count": 9,
   "metadata": {},
   "outputs": [],
   "source": [
    "def print_memories(memories: list[Document]) -> None:\n",
    "    for i, memory in enumerate(memories):\n",
    "        print(\"-\" * 100)\n",
    "        print(f\"Memory {i + 1}:\")\n",
    "        print(f\"{i + 1}. {memory.page_content[:100]}\")\n",
    "        print(f\"Source: {memory.metadata['source']}\")\n",
    "        print(\"-\" * 100)"
   ]
  },
  {
   "cell_type": "code",
   "execution_count": 10,
   "metadata": {},
   "outputs": [
    {
     "name": "stderr",
     "output_type": "stream",
     "text": [
      "\u001b[32m2025-02-15 14:32:58.890\u001b[0m | \u001b[1mINFO    \u001b[0m | \u001b[36mphiloagents.application.rag.retrievers\u001b[0m:\u001b[36mget_retriever\u001b[0m:\u001b[36m30\u001b[0m - \u001b[1mInitializing retriever | model: sentence-transformers/all-MiniLM-L6-v2 | device: cpu | top_k: 3\u001b[0m\n"
     ]
    },
    {
     "name": "stdout",
     "output_type": "stream",
     "text": [
      "----------------------------------------------------------------------------------------------------\n",
      "Memory 1:\n",
      "1. Socrates (; Ancient Greek: Σωκράτης, romanized: Sōkrátēs; c. 470 – 399 BC) was a Greek philosopher f\n",
      "Source: https://en.wikipedia.org/wiki/Socrates\n",
      "----------------------------------------------------------------------------------------------------\n",
      "----------------------------------------------------------------------------------------------------\n",
      "Memory 2:\n",
      "2. Socrates (; Ancient Greek: Σωκράτης, romanized: Sōkrátēs; c. 470 – 399 BC) was a Greek philosopher f\n",
      "Source: https://en.wikipedia.org/wiki/Socrates\n",
      "----------------------------------------------------------------------------------------------------\n",
      "----------------------------------------------------------------------------------------------------\n",
      "Memory 3:\n",
      "3. Socrates (; Ancient Greek: Σωκράτης, romanized: Sōkrátēs; c. 470 – 399 BC) was a Greek philosopher f\n",
      "Source: https://en.wikipedia.org/wiki/Socrates\n",
      "----------------------------------------------------------------------------------------------------\n",
      "----------------------------------------------------------------------------------------------------\n",
      "Memory 4:\n",
      "4. == Legacy ==\n",
      "\n",
      "\n",
      "=== Hellenistic era ===\n",
      "\n",
      "Socrates's impact was immense in philosophy after his death.\n",
      "Source: https://en.wikipedia.org/wiki/Socrates\n",
      "----------------------------------------------------------------------------------------------------\n"
     ]
    }
   ],
   "source": [
    "retriever = LongTermMemoryRetrieval.build_from_settings()\n",
    "\n",
    "memories = retriever(\"Socrates\")\n",
    "print_memories(memories)"
   ]
  },
  {
   "cell_type": "code",
   "execution_count": 11,
   "metadata": {},
   "outputs": [
    {
     "name": "stdout",
     "output_type": "stream",
     "text": [
      "----------------------------------------------------------------------------------------------------\n",
      "Memory 1:\n",
      "1. Although Turing's proof was published shortly after Church's equivalent proof using his lambda calcu\n",
      "Source: https://en.wikipedia.org/wiki/Alan_Turing\n",
      "----------------------------------------------------------------------------------------------------\n",
      "----------------------------------------------------------------------------------------------------\n",
      "Memory 2:\n",
      "2. == Publications ==\n",
      "Turing, A. M. (1938). \"On Computable Numbers, with an Application to the Entschei\n",
      "Source: https://en.wikipedia.org/wiki/Alan_Turing\n",
      "----------------------------------------------------------------------------------------------------\n",
      "----------------------------------------------------------------------------------------------------\n",
      "Memory 3:\n",
      "3. === Pattern formation and mathematical biology ===\n",
      "When Turing was 39 years old in 1951, he turned t\n",
      "Source: https://en.wikipedia.org/wiki/Alan_Turing\n",
      "----------------------------------------------------------------------------------------------------\n",
      "----------------------------------------------------------------------------------------------------\n",
      "Memory 4:\n",
      "4. === Early computers and the Turing test ===\n",
      "\n",
      "Between 1945 and 1947, Turing lived in Hampton, London,\n",
      "Source: https://en.wikipedia.org/wiki/Alan_Turing\n",
      "----------------------------------------------------------------------------------------------------\n"
     ]
    }
   ],
   "source": [
    "memories = retriever(\"Turing\")\n",
    "print_memories(memories)"
   ]
  },
  {
   "cell_type": "code",
   "execution_count": null,
   "metadata": {},
   "outputs": [],
   "source": []
  }
 ],
 "metadata": {
  "kernelspec": {
   "display_name": ".venv",
   "language": "python",
   "name": "python3"
  },
  "language_info": {
   "codemirror_mode": {
    "name": "ipython",
    "version": 3
   },
   "file_extension": ".py",
   "mimetype": "text/x-python",
   "name": "python",
   "nbconvert_exporter": "python",
   "pygments_lexer": "ipython3",
   "version": "3.11.9"
  }
 },
 "nbformat": 4,
 "nbformat_minor": 2
}
